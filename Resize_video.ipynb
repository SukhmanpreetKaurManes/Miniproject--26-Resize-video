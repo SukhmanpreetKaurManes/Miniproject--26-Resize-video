{
  "nbformat": 4,
  "nbformat_minor": 0,
  "metadata": {
    "colab": {
      "provenance": [],
      "authorship_tag": "ABX9TyM4n+YYC8O97JeirSxKXItN",
      "include_colab_link": true
    },
    "kernelspec": {
      "name": "python3",
      "display_name": "Python 3"
    },
    "language_info": {
      "name": "python"
    }
  },
  "cells": [
    {
      "cell_type": "markdown",
      "metadata": {
        "id": "view-in-github",
        "colab_type": "text"
      },
      "source": [
        "<a href=\"https://colab.research.google.com/github/SukhmanpreetKaurManes/Miniproject--26-Resize-video/blob/main/Resize_video.ipynb\" target=\"_parent\"><img src=\"https://colab.research.google.com/assets/colab-badge.svg\" alt=\"Open In Colab\"/></a>"
      ]
    },
    {
      "cell_type": "code",
      "execution_count": 1,
      "metadata": {
        "colab": {
          "base_uri": "https://localhost:8080/"
        },
        "id": "hA2wfwNn8kSa",
        "outputId": "88018529-b001-4e66-83fa-172a186bc9bb"
      },
      "outputs": [
        {
          "output_type": "stream",
          "name": "stdout",
          "text": [
            "Collecting yt-dlp\n",
            "  Downloading yt_dlp-2025.6.25-py3-none-any.whl.metadata (174 kB)\n",
            "\u001b[?25l     \u001b[90m━━━━━━━━━━━━━━━━━━━━━━━━━━━━━━━━━━━━━━━━\u001b[0m \u001b[32m0.0/174.3 kB\u001b[0m \u001b[31m?\u001b[0m eta \u001b[36m-:--:--\u001b[0m\r\u001b[2K     \u001b[91m━━━━━━━━━━━━━━━━━━━━━━━━━━━━━━━━━━━━━━\u001b[0m\u001b[91m╸\u001b[0m \u001b[32m174.1/174.3 kB\u001b[0m \u001b[31m5.6 MB/s\u001b[0m eta \u001b[36m0:00:01\u001b[0m\r\u001b[2K     \u001b[90m━━━━━━━━━━━━━━━━━━━━━━━━━━━━━━━━━━━━━━━\u001b[0m \u001b[32m174.3/174.3 kB\u001b[0m \u001b[31m3.6 MB/s\u001b[0m eta \u001b[36m0:00:00\u001b[0m\n",
            "\u001b[?25hRequirement already satisfied: opencv-python in /usr/local/lib/python3.11/dist-packages (4.11.0.86)\n",
            "Requirement already satisfied: numpy>=1.21.2 in /usr/local/lib/python3.11/dist-packages (from opencv-python) (2.0.2)\n",
            "Downloading yt_dlp-2025.6.25-py3-none-any.whl (3.3 MB)\n",
            "\u001b[2K   \u001b[90m━━━━━━━━━━━━━━━━━━━━━━━━━━━━━━━━━━━━━━━━\u001b[0m \u001b[32m3.3/3.3 MB\u001b[0m \u001b[31m41.4 MB/s\u001b[0m eta \u001b[36m0:00:00\u001b[0m\n",
            "\u001b[?25hInstalling collected packages: yt-dlp\n",
            "Successfully installed yt-dlp-2025.6.25\n"
          ]
        }
      ],
      "source": [
        "!pip install yt-dlp opencv-python"
      ]
    },
    {
      "cell_type": "code",
      "source": [
        "\n",
        "import os\n",
        "import yt_dlp\n",
        "import cv2\n",
        "\n",
        "#  Step 1: Use your YouTube Shorts URL\n",
        "youtube_url = \"https://youtube.com/shorts/U4FlkDceCPU?si=Q14n_Kf3i-ldxyvh\"\n",
        "\n",
        "#  Step 2: Create a folder to store videos\n",
        "video_folder = 'videos'\n",
        "os.makedirs(video_folder, exist_ok=True)\n",
        "\n",
        "#  Step 3: Define where to save the downloaded video\n",
        "downloaded_video_path = os.path.join(video_folder, 'downloaded_video.mp4')\n",
        "\n",
        "#  Step 4: Download the YouTube Shorts video using yt_dlp\n",
        "ydl_opts = {\n",
        "    'format': 'mp4',\n",
        "    'outtmpl': downloaded_video_path\n",
        "}\n",
        "\n",
        "print(\"📥 Downloading video...\")\n",
        "with yt_dlp.YoutubeDL(ydl_opts) as ydl:\n",
        "    ydl.download([youtube_url])\n",
        "print(\" Video downloaded successfully!\")\n",
        "\n",
        "#  Step 5: Open the video using OpenCV\n",
        "cap = cv2.VideoCapture(downloaded_video_path)\n",
        "\n",
        "# Get original video properties\n",
        "fps = cap.get(cv2.CAP_PROP_FPS)\n",
        "width = int(cap.get(cv2.CAP_PROP_FRAME_WIDTH))\n",
        "height = int(cap.get(cv2.CAP_PROP_FRAME_HEIGHT))\n",
        "\n",
        "# Calculate 50% resized dimensions\n",
        "resized_width = width // 2\n",
        "resized_height = height // 2\n",
        "\n",
        "# Step 6: Define output path for resized video (with color)\n",
        "resized_video_path = os.path.join(video_folder, 'resized_video.avi')\n",
        "out = cv2.VideoWriter(resized_video_path, cv2.VideoWriter_fourcc(*'XVID'), fps, (resized_width, resized_height), isColor=True)\n",
        "# step 7 Resize and save each frame\n",
        "print(\"Resizing video to 50%...\")\n",
        "while True:\n",
        "    ret, frame = cap.read()\n",
        "    if not ret:\n",
        "        break\n",
        "\n",
        "    # Resize the frame to 50%\n",
        "    resized_frame = cv2.resize(frame, (resized_width, resized_height))\n",
        "\n",
        "    # Save the resized frame (in color)\n",
        "    out.write(resized_frame)\n",
        "\n",
        "cap.release()\n",
        "out.release()\n",
        "\n",
        "print(f\"✅ Resized video saved at: {resized_video_path}\")"
      ],
      "metadata": {
        "colab": {
          "base_uri": "https://localhost:8080/"
        },
        "id": "_Yt2AGJC89oQ",
        "outputId": "fc46b6b5-24d1-4e85-a66d-1d4d73c13357"
      },
      "execution_count": 2,
      "outputs": [
        {
          "output_type": "stream",
          "name": "stdout",
          "text": [
            "📥 Downloading video...\n",
            "[youtube] Extracting URL: https://youtube.com/shorts/U4FlkDceCPU?si=Q14n_Kf3i-ldxyvh\n",
            "[youtube] U4FlkDceCPU: Downloading webpage\n",
            "[youtube] U4FlkDceCPU: Downloading tv client config\n",
            "[youtube] U4FlkDceCPU: Downloading player 5dcb2c1f-main\n",
            "[youtube] U4FlkDceCPU: Downloading tv player API JSON\n",
            "[youtube] U4FlkDceCPU: Downloading ios player API JSON\n",
            "[youtube] U4FlkDceCPU: Downloading m3u8 information\n",
            "[info] U4FlkDceCPU: Downloading 1 format(s): 18\n",
            "[download] Destination: videos/downloaded_video.mp4\n",
            "[download] 100% of    1.76MiB in 00:00:00 at 7.77MiB/s   \n",
            " Video downloaded successfully!\n",
            "Resizing video to 50%...\n",
            "✅ Resized video saved at: videos/resized_video.avi\n"
          ]
        }
      ]
    }
  ]
}